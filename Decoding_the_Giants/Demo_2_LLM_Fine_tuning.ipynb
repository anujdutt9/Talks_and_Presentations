{
  "cells": [
    {
      "cell_type": "markdown",
      "metadata": {
        "id": "view-in-github",
        "colab_type": "text"
      },
      "source": [
        "<a href=\"https://colab.research.google.com/github/anujdutt9/Talks_and_Presentations/blob/main/Decoding_the_Giants/Demo_2_LLM_Fine_tuning.ipynb\" target=\"_parent\"><img src=\"https://colab.research.google.com/assets/colab-badge.svg\" alt=\"Open In Colab\"/></a>"
      ]
    },
    {
      "cell_type": "markdown",
      "metadata": {
        "id": "ZeKxtPb0_qdJ"
      },
      "source": [
        "# Step 0: Install Dependencies"
      ]
    },
    {
      "cell_type": "code",
      "execution_count": 1,
      "metadata": {
        "id": "cQEjhcM0_q02"
      },
      "outputs": [],
      "source": [
        "!pip3 install -U transformers bitsandbytes peft trl accelerate datasets -q"
      ]
    },
    {
      "cell_type": "markdown",
      "metadata": {
        "id": "fuSBT9IaABhG"
      },
      "source": [
        "#### Import libraries."
      ]
    },
    {
      "cell_type": "code",
      "execution_count": 2,
      "metadata": {
        "id": "__2he7qQAC3u"
      },
      "outputs": [],
      "source": [
        "import os\n",
        "import pandas as pd\n",
        "import transformers\n",
        "import torch\n",
        "from datasets import load_dataset, Dataset, DatasetDict\n",
        "from trl import SFTTrainer\n",
        "from peft import LoraConfig, PeftModel\n",
        "from transformers import AutoTokenizer, AutoModelForCausalLM\n",
        "from transformers import BitsAndBytesConfig, GemmaTokenizer\n",
        "from IPython.display import Markdown, display"
      ]
    },
    {
      "cell_type": "markdown",
      "source": [
        "# Step 1: Download Gemma-2b base model"
      ],
      "metadata": {
        "id": "SiORMDrpzsfN"
      }
    },
    {
      "cell_type": "code",
      "execution_count": 3,
      "metadata": {
        "id": "Zc-Y7EVWAr2P"
      },
      "outputs": [],
      "source": [
        "model_id = \"google/gemma-2b\"\n",
        "bnb_config = BitsAndBytesConfig(\n",
        "    load_in_4bit=True,\n",
        "    bnb_4bit_quant_type = \"nf4\",\n",
        "    bnb_4bit_compute_dtype = torch.bfloat16\n",
        ")"
      ]
    },
    {
      "cell_type": "code",
      "execution_count": 4,
      "metadata": {
        "id": "4DCkivEnA88x",
        "colab": {
          "base_uri": "https://localhost:8080/",
          "height": 120,
          "referenced_widgets": [
            "1905899e14ea4bd4aad7490c63557821",
            "7ac43cc26fa64b31bc3d447268b1e95d",
            "6069d39730ca4e53bd49d61cefce05cc",
            "ae3c451699714bed82055753b78d2973",
            "c28dfafe108247c4bfe9ddea168a94dd",
            "a6e7dba8305c4d5fbf5006f078d38cec",
            "6e0512ff8b5b4001a27de443c3d9f7a6",
            "b3acc749b3a0489e98e36232231791ae",
            "224fbb48b1394ab487227851de3e4a7d",
            "271e809759d0470984576e6b52769297",
            "a77d7066f97b4119ba466b1aa1e743b7"
          ]
        },
        "outputId": "02de2624-aa87-4bf6-a861-c6794bcb3a8f"
      },
      "outputs": [
        {
          "output_type": "stream",
          "name": "stderr",
          "text": [
            "`config.hidden_act` is ignored, you should use `config.hidden_activation` instead.\n",
            "Gemma's activation function will be set to `gelu_pytorch_tanh`. Please, use\n",
            "`config.hidden_activation` if you want to override this behaviour.\n",
            "See https://github.com/huggingface/transformers/pull/29402 for more details.\n"
          ]
        },
        {
          "output_type": "display_data",
          "data": {
            "text/plain": [
              "Loading checkpoint shards:   0%|          | 0/2 [00:00<?, ?it/s]"
            ],
            "application/vnd.jupyter.widget-view+json": {
              "version_major": 2,
              "version_minor": 0,
              "model_id": "1905899e14ea4bd4aad7490c63557821"
            }
          },
          "metadata": {}
        }
      ],
      "source": [
        "tokenizer = AutoTokenizer.from_pretrained(model_id)\n",
        "model = AutoModelForCausalLM.from_pretrained(model_id,\n",
        "                                             quantization_config = bnb_config,\n",
        "                                             device_map={\"\":0})"
      ]
    },
    {
      "cell_type": "code",
      "execution_count": 5,
      "metadata": {
        "id": "-lSe_TerBL4B",
        "colab": {
          "base_uri": "https://localhost:8080/",
          "height": 555
        },
        "outputId": "539a507f-575e-4606-fcaa-bd1019084fe9"
      },
      "outputs": [
        {
          "output_type": "stream",
          "name": "stderr",
          "text": [
            "Starting from v4.46, the `logits` model output will have the same type as the model (except at train time, where it will always be FP32)\n"
          ]
        },
        {
          "output_type": "display_data",
          "data": {
            "text/plain": [
              "<IPython.core.display.Markdown object>"
            ],
            "text/markdown": "**Model Response:**\n\n<bos>How do you merge two dictionaries in Python?\n\nStep 1\n1 of 2\n\nIn Python, dictionaries are unordered and unindexed data structures.\n\nDictionaries are used to store key-value pairs.\n\nThe keys are unique and the values are unique.\n\nThe keys are case-sensitive.\n\nThe keys are immutable.\n\nThe keys are not stored in the order in which they are inserted.\n\nThe keys are stored in the order in which they are encountered.\n\nThe keys are stored in the order in which they are encountered.\n\nThe keys are stored in the order in which they are encountered.\n\nThe keys are stored in the order in which they are encountered.\n\nThe keys are stored in the order in which they are encountered.\n\nThe keys are stored in the order in which they are encountered.\n\nThe keys are stored in the order in which they are encountered.\n\nThe keys are stored in the order in which they are encountered.\n\nThe keys are stored in the order in which they are encountered.\n\nThe keys are stored in the order in which they are encountered.\n\nThe keys are stored in the order in which they are encountered.\n\nThe keys are stored in the order in which they are encountered.\n\nThe keys are stored in"
          },
          "metadata": {}
        }
      ],
      "source": [
        "# Output from the model BEFORE Fine-tuning\n",
        "text = \"How do you merge two dictionaries in Python\"\n",
        "device = \"cuda:0\"\n",
        "inputs = tokenizer(text, return_tensors = \"pt\").to(device)\n",
        "outputs = model.generate(**inputs, max_new_tokens=250, eos_token_id=tokenizer.eos_token_id)\n",
        "model_response = tokenizer.decode(outputs[0], skip_special_tokens=False)\n",
        "display(Markdown(f\"**Model Response:**\\n\\n{model_response}\"))"
      ]
    },
    {
      "cell_type": "code",
      "source": [
        "# Output from the model BEFORE Fine-tuning\n",
        "text = \"How do you check if a string is a palindrome in Python\"\n",
        "device = \"cuda:0\"\n",
        "inputs = tokenizer(text, return_tensors = \"pt\").to(device)\n",
        "outputs = model.generate(**inputs, max_new_tokens=250, eos_token_id=tokenizer.eos_token_id)\n",
        "model_response = tokenizer.decode(outputs[0], skip_special_tokens=False)\n",
        "display(Markdown(f\"**Model Response:**\\n\\n{model_response}\"))"
      ],
      "metadata": {
        "colab": {
          "base_uri": "https://localhost:8080/",
          "height": 172
        },
        "id": "ynj6xv1psfFy",
        "outputId": "d2ddb664-5a14-4c26-abc3-c113053698bb"
      },
      "execution_count": 6,
      "outputs": [
        {
          "output_type": "display_data",
          "data": {
            "text/plain": [
              "<IPython.core.display.Markdown object>"
            ],
            "text/markdown": "**Model Response:**\n\n<bos>How do you check if a string is a palindrome in Python?\n\nStep 1\n1 of 2\n\nTo check if a string is a palindrome, we can use the $\\texttt{is\\_palindrome()}$ method from the $\\texttt{re.match()}$ module.\n\nResult\n2 of 2\n\nTo check if a string is a palindrome, we can use the $\\texttt{is\\_palindrome()}$ method from the $\\texttt{re.match()}$ module.<eos>"
          },
          "metadata": {}
        }
      ]
    },
    {
      "cell_type": "markdown",
      "source": [
        "# Step 2: Configure LoRA settings for modules to be trained"
      ],
      "metadata": {
        "id": "KsKiqRtwz5V8"
      }
    },
    {
      "cell_type": "code",
      "execution_count": 7,
      "metadata": {
        "id": "_w3TdQ20Dpjw"
      },
      "outputs": [],
      "source": [
        "os.environ[\"WANDB_DISABLE\"] = \"false\""
      ]
    },
    {
      "cell_type": "code",
      "execution_count": 8,
      "metadata": {
        "id": "ii06zZTfD-B_"
      },
      "outputs": [],
      "source": [
        "lora_config = LoraConfig(\n",
        "    r = 8,\n",
        "    target_modules = [\"q_proj\", \"o_proj\", \"k_proj\", \"v_proj\",\n",
        "                      \"gate_proj\", \"up_proj\", \"down_proj\"],\n",
        "    task_type = \"CAUSAL_LM\"\n",
        ")"
      ]
    },
    {
      "cell_type": "markdown",
      "source": [
        "# Step 3: Load the dataset\n",
        "\n",
        "**Dataset Source:** https://www.kaggle.com/datasets/chinmayadatt/dataset-python-question-answer?resource=download"
      ],
      "metadata": {
        "id": "r5H4lsvp0Gyf"
      }
    },
    {
      "cell_type": "code",
      "source": [
        "# Read Dataset CSV\n",
        "df = pd.read_csv(\"Dataset_Python_Question_Answer.csv\")\n",
        "\n",
        "# Calculate the length of each 'Question' and 'Answer' combined and add it as a new column\n",
        "df['text_length'] = df[\"Question\"].str.len() + df[\"Answer\"].str.len()\n",
        "\n",
        "# Calculate the average length of 'Answer' in the filtered dataset\n",
        "average_length = int(df['text_length'].mean())\n",
        "\n",
        "# Find the shortest and longest lengths of 'Answer' in the filtered dataset\n",
        "shortest_length = int(df['text_length'].min())\n",
        "longest_length = int(df['text_length'].max())\n",
        "\n",
        "# Print the statistics\n",
        "print(\"Average length of 'Question and Answer' in original dataset:\", average_length)\n",
        "print(\"Shortest length of 'Question and Answer' in original dataset:\", shortest_length)\n",
        "print(\"Longest length of 'Question and Answer' in original dataset:\", longest_length)"
      ],
      "metadata": {
        "colab": {
          "base_uri": "https://localhost:8080/"
        },
        "id": "qKMSOqkeeyYJ",
        "outputId": "64c4e9a3-5886-4693-aa96-534c3a08fa5e"
      },
      "execution_count": 9,
      "outputs": [
        {
          "output_type": "stream",
          "name": "stdout",
          "text": [
            "Average length of 'Question and Answer' in original dataset: 1708\n",
            "Shortest length of 'Question and Answer' in original dataset: 139\n",
            "Longest length of 'Question and Answer' in original dataset: 3511\n"
          ]
        }
      ]
    },
    {
      "cell_type": "code",
      "source": [
        "import random\n",
        "\n",
        "# Convert dataset to Dataset object\n",
        "data = Dataset.from_pandas(df)\n",
        "\n",
        "# Print the entire dataset\n",
        "print(\"<Data structure>\")\n",
        "print(data)\n",
        "\n",
        "# Generate a random index based on the dataset length\n",
        "random_index = random.randint(0, len(data) - 1)\n",
        "\n",
        "# Print a random sample of the dataset\n",
        "print(\"\\n\\n<Random sample dataset>\")\n",
        "print(\"\\n- Question:\", data[random_index][\"Question\"])\n",
        "print(\"\\n- Answer:\", data[random_index][\"Answer\"])"
      ],
      "metadata": {
        "colab": {
          "base_uri": "https://localhost:8080/"
        },
        "id": "0zqLJSuXe1kQ",
        "outputId": "ff5c398a-37e5-4e7c-d385-6dd54e59644c"
      },
      "execution_count": 10,
      "outputs": [
        {
          "output_type": "stream",
          "name": "stdout",
          "text": [
            "<Data structure>\n",
            "Dataset({\n",
            "    features: ['Question', 'Answer', 'text_length'],\n",
            "    num_rows: 419\n",
            "})\n",
            "\n",
            "\n",
            "<Random sample dataset>\n",
            "\n",
            "- Question:  How do you perform string concatenation in Python?\n",
            "\n",
            "- Answer: [\"Sure, here's a detailed explanation of how to perform string concatenation in Python:\", '**1. String Concatenation Operator (`+`)**', 'The string concatenation operator (`+`) is used to combine strings directly, and the resulting string is stored in the variable on the right.', '```python', 'name = \"John\"', 'age = 30', 'string = name + \" is \" + str(age)', '```', '**2. String Formatting**', 'To format a string with variables, you can use string formatting syntax. This allows you to insert values directly into the string template.', '```python', 'name = \"John\"', 'age = 30', 'message = f\"Hello, my name is {name} and I am {age} years old.\"', '```', '**3. Concatenating String Variables**', 'You can concatenate multiple variables into a string using the `join()` method.', '```python', 'names = [\"John\", \"Mary\", \"Peter\"]', 'message = \"Hello everyone!\"', 'formatted_message = \"Hello, \".join(names) + \"!\"', '```', '**4. String Slicing**', 'You can use string slicing to extract a portion of a string and concatenate it with another part.', '```python', 'string = \"Hello world\"', 'first_part = string[:5]', 'second_part = string[5:]', 'concatenated_string = first_part + second_part', '```', '**5. String Methods**', 'There are other built-in string methods that can be used for concatenation, such as:', '- `join()`', '- `format()`', '- `startswith()`', '- `endswith()`', '**6. String Concatenation in Different Contexts**', '- **In the print() function:** Use the `end` keyword argument to specify the string to be printed.', '```python', 'print(\"Hello\", \"world\", \"!\")', '```', '- **In string concatenation:** Use string formatting or the `join()` method.', '**7. Choosing the Right Method**', 'The best method for string concatenation in Python depends on the specific requirements of your task. For simple concatenation, the `+` operator is sufficient. For more complex formatting or string manipulation, you can use string formatting or concatenation methods.']\n"
          ]
        }
      ]
    },
    {
      "cell_type": "code",
      "execution_count": 11,
      "metadata": {
        "id": "0t50PC1tE_pI"
      },
      "outputs": [],
      "source": [
        "def formatting_func(example):\n",
        "  text = f\"Answer: {example['Answer'][0]}\"\n",
        "  return [text]"
      ]
    },
    {
      "cell_type": "markdown",
      "metadata": {
        "id": "FtFIEyU1JDjy"
      },
      "source": [
        "#### Step 4: Configure supervised fine-tuning parameters."
      ]
    },
    {
      "cell_type": "code",
      "execution_count": 12,
      "metadata": {
        "id": "4MZERT9EGFiN",
        "colab": {
          "base_uri": "https://localhost:8080/",
          "height": 158,
          "referenced_widgets": [
            "a25dc5ba507e41c2961f1fd6d2d4ab13",
            "135aff86427d49119545a42b0482f344",
            "94d283f11f60475e994faaf97c839c3d",
            "911ea13cdbae46ae8fe9c50c2b17b46d",
            "0d74ba617fb648f4a2ad8e5db17946b7",
            "44c1d6586c0b44f8872b2c67b773d574",
            "b5c3152b6f5e4391ace7085247057f25",
            "afb1534ec0db42189def2d76bc05ca2f",
            "15d5ed21e72044cc8777a064b20e8963",
            "39b6ec8236e5422a970a1481a78e0d3e",
            "6ccec60dcc924fa38f9aff3a746d5cc4"
          ]
        },
        "outputId": "e0f9310f-09b0-457c-f6a5-1e0f7ee50256"
      },
      "outputs": [
        {
          "output_type": "stream",
          "name": "stderr",
          "text": [
            "/usr/local/lib/python3.10/dist-packages/trl/trainer/sft_trainer.py:292: UserWarning: You didn't pass a `max_seq_length` argument to the SFTTrainer, this will default to 1024\n",
            "  warnings.warn(\n"
          ]
        },
        {
          "output_type": "display_data",
          "data": {
            "text/plain": [
              "Map:   0%|          | 0/419 [00:00<?, ? examples/s]"
            ],
            "application/vnd.jupyter.widget-view+json": {
              "version_major": 2,
              "version_minor": 0,
              "model_id": "a25dc5ba507e41c2961f1fd6d2d4ab13"
            }
          },
          "metadata": {}
        },
        {
          "output_type": "stream",
          "name": "stderr",
          "text": [
            "/usr/local/lib/python3.10/dist-packages/trl/trainer/sft_trainer.py:396: UserWarning: You passed a tokenizer with `padding_side` not equal to `right` to the SFTTrainer. This might lead to some unexpected behaviour due to overflow issues when training a model in half-precision. You might consider adding `tokenizer.padding_side = 'right'` to your code.\n",
            "  warnings.warn(\n",
            "max_steps is given, it will override any value given in num_train_epochs\n"
          ]
        }
      ],
      "source": [
        "trainer = SFTTrainer(\n",
        "    model = model,\n",
        "    train_dataset = data,\n",
        "    args = transformers.TrainingArguments(\n",
        "        per_device_train_batch_size = 4,\n",
        "        gradient_accumulation_steps = 4,\n",
        "        warmup_steps = 10,  # 2\n",
        "        max_steps = 60,\n",
        "        learning_rate = 2e-4,\n",
        "        fp16 = True,\n",
        "        logging_steps = 1,\n",
        "        output_dir = \"outputs\",\n",
        "        optim = \"paged_adamw_8bit\"\n",
        "    ),\n",
        "    peft_config = lora_config,\n",
        "    formatting_func = formatting_func\n",
        ")"
      ]
    },
    {
      "cell_type": "markdown",
      "metadata": {
        "id": "ct02smouJI7J"
      },
      "source": [
        "#### Step 5: Start model fine-tuning."
      ]
    },
    {
      "cell_type": "code",
      "execution_count": 13,
      "metadata": {
        "id": "FoA2nDjkGWD7",
        "colab": {
          "base_uri": "https://localhost:8080/",
          "height": 1000
        },
        "outputId": "ddf3a845-50df-424a-a5a8-1b53b6c4d08d"
      },
      "outputs": [
        {
          "output_type": "stream",
          "name": "stderr",
          "text": [
            "\u001b[34m\u001b[1mwandb\u001b[0m: \u001b[33mWARNING\u001b[0m The `run_name` is currently set to the same value as `TrainingArguments.output_dir`. If this was not intended, please specify a different run name by setting the `TrainingArguments.run_name` parameter.\n",
            "\u001b[34m\u001b[1mwandb\u001b[0m: Using wandb-core as the SDK backend. Please refer to https://wandb.me/wandb-core for more information.\n",
            "\u001b[34m\u001b[1mwandb\u001b[0m: Currently logged in as: \u001b[33manujd9\u001b[0m. Use \u001b[1m`wandb login --relogin`\u001b[0m to force relogin\n"
          ]
        },
        {
          "output_type": "display_data",
          "data": {
            "text/plain": [
              "<IPython.core.display.HTML object>"
            ],
            "text/html": [
              "Tracking run with wandb version 0.18.5"
            ]
          },
          "metadata": {}
        },
        {
          "output_type": "display_data",
          "data": {
            "text/plain": [
              "<IPython.core.display.HTML object>"
            ],
            "text/html": [
              "Run data is saved locally in <code>/content/wandb/run-20241023_060158-ttk3igwo</code>"
            ]
          },
          "metadata": {}
        },
        {
          "output_type": "display_data",
          "data": {
            "text/plain": [
              "<IPython.core.display.HTML object>"
            ],
            "text/html": [
              "Syncing run <strong><a href='https://wandb.ai/anujd9/huggingface/runs/ttk3igwo' target=\"_blank\">outputs</a></strong> to <a href='https://wandb.ai/anujd9/huggingface' target=\"_blank\">Weights & Biases</a> (<a href='https://wandb.me/run' target=\"_blank\">docs</a>)<br/>"
            ]
          },
          "metadata": {}
        },
        {
          "output_type": "display_data",
          "data": {
            "text/plain": [
              "<IPython.core.display.HTML object>"
            ],
            "text/html": [
              " View project at <a href='https://wandb.ai/anujd9/huggingface' target=\"_blank\">https://wandb.ai/anujd9/huggingface</a>"
            ]
          },
          "metadata": {}
        },
        {
          "output_type": "display_data",
          "data": {
            "text/plain": [
              "<IPython.core.display.HTML object>"
            ],
            "text/html": [
              " View run at <a href='https://wandb.ai/anujd9/huggingface/runs/ttk3igwo' target=\"_blank\">https://wandb.ai/anujd9/huggingface/runs/ttk3igwo</a>"
            ]
          },
          "metadata": {}
        },
        {
          "output_type": "display_data",
          "data": {
            "text/plain": [
              "<IPython.core.display.HTML object>"
            ],
            "text/html": [
              "\n",
              "    <div>\n",
              "      \n",
              "      <progress value='60' max='60' style='width:300px; height:20px; vertical-align: middle;'></progress>\n",
              "      [60/60 00:25, Epoch 60/60]\n",
              "    </div>\n",
              "    <table border=\"1\" class=\"dataframe\">\n",
              "  <thead>\n",
              " <tr style=\"text-align: left;\">\n",
              "      <th>Step</th>\n",
              "      <th>Training Loss</th>\n",
              "    </tr>\n",
              "  </thead>\n",
              "  <tbody>\n",
              "    <tr>\n",
              "      <td>1</td>\n",
              "      <td>0.426600</td>\n",
              "    </tr>\n",
              "    <tr>\n",
              "      <td>2</td>\n",
              "      <td>0.426600</td>\n",
              "    </tr>\n",
              "    <tr>\n",
              "      <td>3</td>\n",
              "      <td>0.423100</td>\n",
              "    </tr>\n",
              "    <tr>\n",
              "      <td>4</td>\n",
              "      <td>0.416500</td>\n",
              "    </tr>\n",
              "    <tr>\n",
              "      <td>5</td>\n",
              "      <td>0.403900</td>\n",
              "    </tr>\n",
              "    <tr>\n",
              "      <td>6</td>\n",
              "      <td>0.385100</td>\n",
              "    </tr>\n",
              "    <tr>\n",
              "      <td>7</td>\n",
              "      <td>0.360800</td>\n",
              "    </tr>\n",
              "    <tr>\n",
              "      <td>8</td>\n",
              "      <td>0.332600</td>\n",
              "    </tr>\n",
              "    <tr>\n",
              "      <td>9</td>\n",
              "      <td>0.301800</td>\n",
              "    </tr>\n",
              "    <tr>\n",
              "      <td>10</td>\n",
              "      <td>0.269700</td>\n",
              "    </tr>\n",
              "    <tr>\n",
              "      <td>11</td>\n",
              "      <td>0.233900</td>\n",
              "    </tr>\n",
              "    <tr>\n",
              "      <td>12</td>\n",
              "      <td>0.193500</td>\n",
              "    </tr>\n",
              "    <tr>\n",
              "      <td>13</td>\n",
              "      <td>0.154800</td>\n",
              "    </tr>\n",
              "    <tr>\n",
              "      <td>14</td>\n",
              "      <td>0.121000</td>\n",
              "    </tr>\n",
              "    <tr>\n",
              "      <td>15</td>\n",
              "      <td>0.092800</td>\n",
              "    </tr>\n",
              "    <tr>\n",
              "      <td>16</td>\n",
              "      <td>0.070000</td>\n",
              "    </tr>\n",
              "    <tr>\n",
              "      <td>17</td>\n",
              "      <td>0.052000</td>\n",
              "    </tr>\n",
              "    <tr>\n",
              "      <td>18</td>\n",
              "      <td>0.039500</td>\n",
              "    </tr>\n",
              "    <tr>\n",
              "      <td>19</td>\n",
              "      <td>0.031400</td>\n",
              "    </tr>\n",
              "    <tr>\n",
              "      <td>20</td>\n",
              "      <td>0.026100</td>\n",
              "    </tr>\n",
              "    <tr>\n",
              "      <td>21</td>\n",
              "      <td>0.021800</td>\n",
              "    </tr>\n",
              "    <tr>\n",
              "      <td>22</td>\n",
              "      <td>0.018500</td>\n",
              "    </tr>\n",
              "    <tr>\n",
              "      <td>23</td>\n",
              "      <td>0.015500</td>\n",
              "    </tr>\n",
              "    <tr>\n",
              "      <td>24</td>\n",
              "      <td>0.012800</td>\n",
              "    </tr>\n",
              "    <tr>\n",
              "      <td>25</td>\n",
              "      <td>0.010600</td>\n",
              "    </tr>\n",
              "    <tr>\n",
              "      <td>26</td>\n",
              "      <td>0.009400</td>\n",
              "    </tr>\n",
              "    <tr>\n",
              "      <td>27</td>\n",
              "      <td>0.008600</td>\n",
              "    </tr>\n",
              "    <tr>\n",
              "      <td>28</td>\n",
              "      <td>0.008000</td>\n",
              "    </tr>\n",
              "    <tr>\n",
              "      <td>29</td>\n",
              "      <td>0.007400</td>\n",
              "    </tr>\n",
              "    <tr>\n",
              "      <td>30</td>\n",
              "      <td>0.006800</td>\n",
              "    </tr>\n",
              "    <tr>\n",
              "      <td>31</td>\n",
              "      <td>0.006200</td>\n",
              "    </tr>\n",
              "    <tr>\n",
              "      <td>32</td>\n",
              "      <td>0.005700</td>\n",
              "    </tr>\n",
              "    <tr>\n",
              "      <td>33</td>\n",
              "      <td>0.005000</td>\n",
              "    </tr>\n",
              "    <tr>\n",
              "      <td>34</td>\n",
              "      <td>0.004400</td>\n",
              "    </tr>\n",
              "    <tr>\n",
              "      <td>35</td>\n",
              "      <td>0.003800</td>\n",
              "    </tr>\n",
              "    <tr>\n",
              "      <td>36</td>\n",
              "      <td>0.003300</td>\n",
              "    </tr>\n",
              "    <tr>\n",
              "      <td>37</td>\n",
              "      <td>0.002700</td>\n",
              "    </tr>\n",
              "    <tr>\n",
              "      <td>38</td>\n",
              "      <td>0.002200</td>\n",
              "    </tr>\n",
              "    <tr>\n",
              "      <td>39</td>\n",
              "      <td>0.001800</td>\n",
              "    </tr>\n",
              "    <tr>\n",
              "      <td>40</td>\n",
              "      <td>0.001400</td>\n",
              "    </tr>\n",
              "    <tr>\n",
              "      <td>41</td>\n",
              "      <td>0.001100</td>\n",
              "    </tr>\n",
              "    <tr>\n",
              "      <td>42</td>\n",
              "      <td>0.000800</td>\n",
              "    </tr>\n",
              "    <tr>\n",
              "      <td>43</td>\n",
              "      <td>0.000600</td>\n",
              "    </tr>\n",
              "    <tr>\n",
              "      <td>44</td>\n",
              "      <td>0.000500</td>\n",
              "    </tr>\n",
              "    <tr>\n",
              "      <td>45</td>\n",
              "      <td>0.000400</td>\n",
              "    </tr>\n",
              "    <tr>\n",
              "      <td>46</td>\n",
              "      <td>0.000300</td>\n",
              "    </tr>\n",
              "    <tr>\n",
              "      <td>47</td>\n",
              "      <td>0.000300</td>\n",
              "    </tr>\n",
              "    <tr>\n",
              "      <td>48</td>\n",
              "      <td>0.000200</td>\n",
              "    </tr>\n",
              "    <tr>\n",
              "      <td>49</td>\n",
              "      <td>0.000200</td>\n",
              "    </tr>\n",
              "    <tr>\n",
              "      <td>50</td>\n",
              "      <td>0.000200</td>\n",
              "    </tr>\n",
              "    <tr>\n",
              "      <td>51</td>\n",
              "      <td>0.000100</td>\n",
              "    </tr>\n",
              "    <tr>\n",
              "      <td>52</td>\n",
              "      <td>0.000100</td>\n",
              "    </tr>\n",
              "    <tr>\n",
              "      <td>53</td>\n",
              "      <td>0.000100</td>\n",
              "    </tr>\n",
              "    <tr>\n",
              "      <td>54</td>\n",
              "      <td>0.000100</td>\n",
              "    </tr>\n",
              "    <tr>\n",
              "      <td>55</td>\n",
              "      <td>0.000100</td>\n",
              "    </tr>\n",
              "    <tr>\n",
              "      <td>56</td>\n",
              "      <td>0.000100</td>\n",
              "    </tr>\n",
              "    <tr>\n",
              "      <td>57</td>\n",
              "      <td>0.000100</td>\n",
              "    </tr>\n",
              "    <tr>\n",
              "      <td>58</td>\n",
              "      <td>0.000100</td>\n",
              "    </tr>\n",
              "    <tr>\n",
              "      <td>59</td>\n",
              "      <td>0.000100</td>\n",
              "    </tr>\n",
              "    <tr>\n",
              "      <td>60</td>\n",
              "      <td>0.000100</td>\n",
              "    </tr>\n",
              "  </tbody>\n",
              "</table><p>"
            ]
          },
          "metadata": {}
        },
        {
          "output_type": "execute_result",
          "data": {
            "text/plain": [
              "TrainOutput(global_step=60, training_loss=0.08205500186171169, metrics={'train_runtime': 34.3891, 'train_samples_per_second': 27.916, 'train_steps_per_second': 1.745, 'total_flos': 120457425715200.0, 'train_loss': 0.08205500186171169, 'epoch': 60.0})"
            ]
          },
          "metadata": {},
          "execution_count": 13
        }
      ],
      "source": [
        "trainer.train()"
      ]
    },
    {
      "cell_type": "markdown",
      "metadata": {
        "id": "xMVhZIodL51T"
      },
      "source": [
        "#### Step 6: Inference on the fine-tuned model."
      ]
    },
    {
      "cell_type": "code",
      "execution_count": 14,
      "metadata": {
        "id": "0IWodAZ-r-LW",
        "colab": {
          "base_uri": "https://localhost:8080/",
          "height": 353
        },
        "outputId": "acdb649e-78ad-47c7-f804-7c2455109342"
      },
      "outputs": [
        {
          "output_type": "display_data",
          "data": {
            "text/plain": [
              "<IPython.core.display.Markdown object>"
            ],
            "text/markdown": "**Model Response:**\n\nHow do you merge two dictionaries in Python?\n\nAnswer:\n\nStep 1/3\n1. First, we need to create two empty dictionaries.\n\nStep 2/3\n2. Then, we need to assign the first dictionary to a variable.\n\nStep 3/3\n3. Finally, we need to assign the second dictionary to another variable. Here's the code: ``` import pprint dict1 = {'key1': 'value1', 'key2': 'value2'} dict2 = {'key3': 'value3', 'key4': 'value4'} merged_dict = dict1.copy() merged_dict.update(dict2) pprint(merged_dict) ``` Output: ``` {'key1': 'value1', 'key2': 'value2', 'key3': 'value3', 'key4': 'value4'} ``` In this example, we have created two dictionaries and assigned them to two variables. We have then used the `copy()` method to create a copy of `dict1` and assigned it to `merged_dict`. We have also updated `merged_dict` with the values of `dict2` using the `update()` method. The final dictionary `merged_dict` now"
          },
          "metadata": {}
        }
      ],
      "source": [
        "# Output from the model AFTER Fine-tuning\n",
        "text = \"How do you merge two dictionaries in Python?\"\n",
        "device = \"cuda:0\"\n",
        "inputs = tokenizer(text, return_tensors = \"pt\").to(device)\n",
        "outputs = model.generate(**inputs, max_new_tokens=250, eos_token_id=tokenizer.eos_token_id)\n",
        "model_response = tokenizer.decode(outputs[0], skip_special_tokens=True)\n",
        "display(Markdown(f\"**Model Response:**\\n\\n{model_response}\"))"
      ]
    },
    {
      "cell_type": "code",
      "source": [
        "# Test Generated Code\n",
        "import pprint\n",
        "\n",
        "dict1 = {'key1': 'value1', 'key2': 'value2'}\n",
        "dict2 = {'key3': 'value3', 'key4': 'value4'}\n",
        "merged_dict = dict1.copy()\n",
        "merged_dict.update(dict2)\n",
        "# Expected Output: {'key1': 'value1', 'key2': 'value2', 'key3': 'value3', 'key4': 'value4'}\n",
        "pprint.pprint(merged_dict)"
      ],
      "metadata": {
        "colab": {
          "base_uri": "https://localhost:8080/"
        },
        "id": "dHKxft7N7eff",
        "outputId": "9a73641c-3161-4e6d-c229-ff1671974a31"
      },
      "execution_count": 19,
      "outputs": [
        {
          "output_type": "stream",
          "name": "stdout",
          "text": [
            "{'key1': 'value1', 'key2': 'value2', 'key3': 'value3', 'key4': 'value4'}\n"
          ]
        }
      ]
    },
    {
      "cell_type": "code",
      "source": [
        "# Output from the model AFTER Fine-tuning\n",
        "text = \"How do you check if a string is a palindrome in Python\"\n",
        "device = \"cuda:0\"\n",
        "inputs = tokenizer(text, return_tensors = \"pt\").to(device)\n",
        "outputs = model.generate(**inputs, max_new_tokens=250, eos_token_id=tokenizer.eos_token_id)\n",
        "model_response = tokenizer.decode(outputs[0], skip_special_tokens=True)\n",
        "display(Markdown(f\"**Model Response:**\\n\\n{model_response}\"))"
      ],
      "metadata": {
        "colab": {
          "base_uri": "https://localhost:8080/",
          "height": 481
        },
        "id": "K9FrV8xGld8k",
        "outputId": "bcd17412-e831-450b-8eb5-3cd311e0eb70"
      },
      "execution_count": 16,
      "outputs": [
        {
          "output_type": "display_data",
          "data": {
            "text/plain": [
              "<IPython.core.display.Markdown object>"
            ],
            "text/markdown": "**Model Response:**\n\nHow do you check if a string is a palindrome in Python?\n\nAnswer:\n\nStep 1/5\n1. Define a string variable `word`.\n\nStep 2/5\n2. Initialize the variable `word` with the input string.\n\nStep 3/5\n3. Create a `reverse()` method that takes a single parameter `word`.\n\nStep 4/5\n4. Reverse the `word` parameter using the `reverse()` method.\n\nStep 5/5\n5. Compare the original `word` variable with the reversed `word` parameter using the `==` operator. Here's the code: ```python word = input(\"Enter a word: \") if word == word[::-1]: print(\"The word is a palindrome.\") else: print(\"The word is not a palindrome.\") ``` In this code, we first initialize the `word` variable with the input string. Then, we create a `reverse()` method that takes a single parameter `word`. This method reverses the `word` parameter and returns it. Finally, we compare the original `word` variable with the reversed `word` parameter using the `==` operator. If they are equal, we print that the `word` is a palindrome. Otherwise, we print that"
          },
          "metadata": {}
        }
      ]
    },
    {
      "cell_type": "code",
      "source": [
        "# Test Generated Code\n",
        "word = input(\"Enter a word: \")\n",
        "\n",
        "if word == word[::-1]:\n",
        "  print(\"The word is a palindrome.\")\n",
        "else:\n",
        "  print(\"The word is not a palindrome.\")"
      ],
      "metadata": {
        "colab": {
          "base_uri": "https://localhost:8080/"
        },
        "id": "L5vjBT_57pvO",
        "outputId": "14a64ed6-868b-48cb-b848-6ed89fa15054"
      },
      "execution_count": 20,
      "outputs": [
        {
          "output_type": "stream",
          "name": "stdout",
          "text": [
            "Enter a word: madam\n",
            "The word is a palindrome.\n"
          ]
        }
      ]
    },
    {
      "cell_type": "markdown",
      "metadata": {
        "id": "Zntvhv61JfPc"
      },
      "source": [
        "#### Step 7: Save the fine-tuned model."
      ]
    },
    {
      "cell_type": "code",
      "execution_count": 18,
      "metadata": {
        "id": "kVPc9Ge4JhtS",
        "colab": {
          "base_uri": "https://localhost:8080/",
          "height": 49,
          "referenced_widgets": [
            "0d01532d18a14cff836df0cd8c98c666",
            "08c14c8b2d8c4d168b21502ccc24b20b",
            "9f22d34d83dd48c0bc7a1a73c3f9b97d",
            "42d52b576d544698a7410415be67f310",
            "8c9d3f7fe0f345299dd6c34cf43d307d",
            "97380e1897a04ba0af0f9bae6576eca5",
            "4c418c5ba46f4e84b094bd4fa7389a98",
            "383f42c9a6c34f54a55e88c420227426",
            "6604eff3745c4b8c92726ecde15da6ca",
            "2d4ffd426b8144e5b5ece1f4d56248a5",
            "3208cdce9afb47a7ac85d40b50d10867"
          ]
        },
        "outputId": "ab2f15d4-48f0-455f-f60a-637f67758283"
      },
      "outputs": [
        {
          "output_type": "display_data",
          "data": {
            "text/plain": [
              "Loading checkpoint shards:   0%|          | 0/2 [00:00<?, ?it/s]"
            ],
            "application/vnd.jupyter.widget-view+json": {
              "version_major": 2,
              "version_minor": 0,
              "model_id": "0d01532d18a14cff836df0cd8c98c666"
            }
          },
          "metadata": {}
        }
      ],
      "source": [
        "fine_tuned_model = \"fine_tuned_gemma2b-it_unmerged\"\n",
        "trainer.model.save_pretrained(fine_tuned_model)\n",
        "\n",
        "# Push the model on Hugging Face.\n",
        "base_model = AutoModelForCausalLM.from_pretrained(\n",
        "    model_id,\n",
        "    low_cpu_mem_usage = True,\n",
        "    return_dict = True,\n",
        "    torch_dtype = torch.float16,\n",
        "    device_map = {\"\": 0}\n",
        ")\n",
        "\n",
        "# Merge the fine-tuned model with LoRA adaption along with the base Gemma 2b-it model.\n",
        "fine_tuned_merged_model = PeftModel.from_pretrained(base_model, fine_tuned_model)\n",
        "fine_tuned_merged_model = fine_tuned_merged_model.merge_and_unload()\n",
        "\n",
        "# Save the fine-tuned merged model.\n",
        "tokenizer = AutoTokenizer.from_pretrained(model_id, trust_remote_code = True)\n",
        "fine_tuned_merged_model.save_pretrained(\"fine_tuned_gemma2b-it\", safe_serialization = True)\n",
        "tokenizer.save_pretrained(\"fine_tuned_gemma2b-it\")\n",
        "tokenizer.padding_side = \"right\""
      ]
    }
  ],
  "metadata": {
    "accelerator": "GPU",
    "colab": {
      "gpuType": "T4",
      "provenance": [],
      "include_colab_link": true
    },
    "kernelspec": {
      "display_name": "Python 3",
      "name": "python3"
    },
    "language_info": {
      "name": "python"
    },
    "widgets": {
      "application/vnd.jupyter.widget-state+json": {
        "1905899e14ea4bd4aad7490c63557821": {
          "model_module": "@jupyter-widgets/controls",
          "model_name": "HBoxModel",
          "model_module_version": "1.5.0",
          "state": {
            "_dom_classes": [],
            "_model_module": "@jupyter-widgets/controls",
            "_model_module_version": "1.5.0",
            "_model_name": "HBoxModel",
            "_view_count": null,
            "_view_module": "@jupyter-widgets/controls",
            "_view_module_version": "1.5.0",
            "_view_name": "HBoxView",
            "box_style": "",
            "children": [
              "IPY_MODEL_7ac43cc26fa64b31bc3d447268b1e95d",
              "IPY_MODEL_6069d39730ca4e53bd49d61cefce05cc",
              "IPY_MODEL_ae3c451699714bed82055753b78d2973"
            ],
            "layout": "IPY_MODEL_c28dfafe108247c4bfe9ddea168a94dd"
          }
        },
        "7ac43cc26fa64b31bc3d447268b1e95d": {
          "model_module": "@jupyter-widgets/controls",
          "model_name": "HTMLModel",
          "model_module_version": "1.5.0",
          "state": {
            "_dom_classes": [],
            "_model_module": "@jupyter-widgets/controls",
            "_model_module_version": "1.5.0",
            "_model_name": "HTMLModel",
            "_view_count": null,
            "_view_module": "@jupyter-widgets/controls",
            "_view_module_version": "1.5.0",
            "_view_name": "HTMLView",
            "description": "",
            "description_tooltip": null,
            "layout": "IPY_MODEL_a6e7dba8305c4d5fbf5006f078d38cec",
            "placeholder": "​",
            "style": "IPY_MODEL_6e0512ff8b5b4001a27de443c3d9f7a6",
            "value": "Loading checkpoint shards: 100%"
          }
        },
        "6069d39730ca4e53bd49d61cefce05cc": {
          "model_module": "@jupyter-widgets/controls",
          "model_name": "FloatProgressModel",
          "model_module_version": "1.5.0",
          "state": {
            "_dom_classes": [],
            "_model_module": "@jupyter-widgets/controls",
            "_model_module_version": "1.5.0",
            "_model_name": "FloatProgressModel",
            "_view_count": null,
            "_view_module": "@jupyter-widgets/controls",
            "_view_module_version": "1.5.0",
            "_view_name": "ProgressView",
            "bar_style": "success",
            "description": "",
            "description_tooltip": null,
            "layout": "IPY_MODEL_b3acc749b3a0489e98e36232231791ae",
            "max": 2,
            "min": 0,
            "orientation": "horizontal",
            "style": "IPY_MODEL_224fbb48b1394ab487227851de3e4a7d",
            "value": 2
          }
        },
        "ae3c451699714bed82055753b78d2973": {
          "model_module": "@jupyter-widgets/controls",
          "model_name": "HTMLModel",
          "model_module_version": "1.5.0",
          "state": {
            "_dom_classes": [],
            "_model_module": "@jupyter-widgets/controls",
            "_model_module_version": "1.5.0",
            "_model_name": "HTMLModel",
            "_view_count": null,
            "_view_module": "@jupyter-widgets/controls",
            "_view_module_version": "1.5.0",
            "_view_name": "HTMLView",
            "description": "",
            "description_tooltip": null,
            "layout": "IPY_MODEL_271e809759d0470984576e6b52769297",
            "placeholder": "​",
            "style": "IPY_MODEL_a77d7066f97b4119ba466b1aa1e743b7",
            "value": " 2/2 [00:19&lt;00:00,  8.33s/it]"
          }
        },
        "c28dfafe108247c4bfe9ddea168a94dd": {
          "model_module": "@jupyter-widgets/base",
          "model_name": "LayoutModel",
          "model_module_version": "1.2.0",
          "state": {
            "_model_module": "@jupyter-widgets/base",
            "_model_module_version": "1.2.0",
            "_model_name": "LayoutModel",
            "_view_count": null,
            "_view_module": "@jupyter-widgets/base",
            "_view_module_version": "1.2.0",
            "_view_name": "LayoutView",
            "align_content": null,
            "align_items": null,
            "align_self": null,
            "border": null,
            "bottom": null,
            "display": null,
            "flex": null,
            "flex_flow": null,
            "grid_area": null,
            "grid_auto_columns": null,
            "grid_auto_flow": null,
            "grid_auto_rows": null,
            "grid_column": null,
            "grid_gap": null,
            "grid_row": null,
            "grid_template_areas": null,
            "grid_template_columns": null,
            "grid_template_rows": null,
            "height": null,
            "justify_content": null,
            "justify_items": null,
            "left": null,
            "margin": null,
            "max_height": null,
            "max_width": null,
            "min_height": null,
            "min_width": null,
            "object_fit": null,
            "object_position": null,
            "order": null,
            "overflow": null,
            "overflow_x": null,
            "overflow_y": null,
            "padding": null,
            "right": null,
            "top": null,
            "visibility": null,
            "width": null
          }
        },
        "a6e7dba8305c4d5fbf5006f078d38cec": {
          "model_module": "@jupyter-widgets/base",
          "model_name": "LayoutModel",
          "model_module_version": "1.2.0",
          "state": {
            "_model_module": "@jupyter-widgets/base",
            "_model_module_version": "1.2.0",
            "_model_name": "LayoutModel",
            "_view_count": null,
            "_view_module": "@jupyter-widgets/base",
            "_view_module_version": "1.2.0",
            "_view_name": "LayoutView",
            "align_content": null,
            "align_items": null,
            "align_self": null,
            "border": null,
            "bottom": null,
            "display": null,
            "flex": null,
            "flex_flow": null,
            "grid_area": null,
            "grid_auto_columns": null,
            "grid_auto_flow": null,
            "grid_auto_rows": null,
            "grid_column": null,
            "grid_gap": null,
            "grid_row": null,
            "grid_template_areas": null,
            "grid_template_columns": null,
            "grid_template_rows": null,
            "height": null,
            "justify_content": null,
            "justify_items": null,
            "left": null,
            "margin": null,
            "max_height": null,
            "max_width": null,
            "min_height": null,
            "min_width": null,
            "object_fit": null,
            "object_position": null,
            "order": null,
            "overflow": null,
            "overflow_x": null,
            "overflow_y": null,
            "padding": null,
            "right": null,
            "top": null,
            "visibility": null,
            "width": null
          }
        },
        "6e0512ff8b5b4001a27de443c3d9f7a6": {
          "model_module": "@jupyter-widgets/controls",
          "model_name": "DescriptionStyleModel",
          "model_module_version": "1.5.0",
          "state": {
            "_model_module": "@jupyter-widgets/controls",
            "_model_module_version": "1.5.0",
            "_model_name": "DescriptionStyleModel",
            "_view_count": null,
            "_view_module": "@jupyter-widgets/base",
            "_view_module_version": "1.2.0",
            "_view_name": "StyleView",
            "description_width": ""
          }
        },
        "b3acc749b3a0489e98e36232231791ae": {
          "model_module": "@jupyter-widgets/base",
          "model_name": "LayoutModel",
          "model_module_version": "1.2.0",
          "state": {
            "_model_module": "@jupyter-widgets/base",
            "_model_module_version": "1.2.0",
            "_model_name": "LayoutModel",
            "_view_count": null,
            "_view_module": "@jupyter-widgets/base",
            "_view_module_version": "1.2.0",
            "_view_name": "LayoutView",
            "align_content": null,
            "align_items": null,
            "align_self": null,
            "border": null,
            "bottom": null,
            "display": null,
            "flex": null,
            "flex_flow": null,
            "grid_area": null,
            "grid_auto_columns": null,
            "grid_auto_flow": null,
            "grid_auto_rows": null,
            "grid_column": null,
            "grid_gap": null,
            "grid_row": null,
            "grid_template_areas": null,
            "grid_template_columns": null,
            "grid_template_rows": null,
            "height": null,
            "justify_content": null,
            "justify_items": null,
            "left": null,
            "margin": null,
            "max_height": null,
            "max_width": null,
            "min_height": null,
            "min_width": null,
            "object_fit": null,
            "object_position": null,
            "order": null,
            "overflow": null,
            "overflow_x": null,
            "overflow_y": null,
            "padding": null,
            "right": null,
            "top": null,
            "visibility": null,
            "width": null
          }
        },
        "224fbb48b1394ab487227851de3e4a7d": {
          "model_module": "@jupyter-widgets/controls",
          "model_name": "ProgressStyleModel",
          "model_module_version": "1.5.0",
          "state": {
            "_model_module": "@jupyter-widgets/controls",
            "_model_module_version": "1.5.0",
            "_model_name": "ProgressStyleModel",
            "_view_count": null,
            "_view_module": "@jupyter-widgets/base",
            "_view_module_version": "1.2.0",
            "_view_name": "StyleView",
            "bar_color": null,
            "description_width": ""
          }
        },
        "271e809759d0470984576e6b52769297": {
          "model_module": "@jupyter-widgets/base",
          "model_name": "LayoutModel",
          "model_module_version": "1.2.0",
          "state": {
            "_model_module": "@jupyter-widgets/base",
            "_model_module_version": "1.2.0",
            "_model_name": "LayoutModel",
            "_view_count": null,
            "_view_module": "@jupyter-widgets/base",
            "_view_module_version": "1.2.0",
            "_view_name": "LayoutView",
            "align_content": null,
            "align_items": null,
            "align_self": null,
            "border": null,
            "bottom": null,
            "display": null,
            "flex": null,
            "flex_flow": null,
            "grid_area": null,
            "grid_auto_columns": null,
            "grid_auto_flow": null,
            "grid_auto_rows": null,
            "grid_column": null,
            "grid_gap": null,
            "grid_row": null,
            "grid_template_areas": null,
            "grid_template_columns": null,
            "grid_template_rows": null,
            "height": null,
            "justify_content": null,
            "justify_items": null,
            "left": null,
            "margin": null,
            "max_height": null,
            "max_width": null,
            "min_height": null,
            "min_width": null,
            "object_fit": null,
            "object_position": null,
            "order": null,
            "overflow": null,
            "overflow_x": null,
            "overflow_y": null,
            "padding": null,
            "right": null,
            "top": null,
            "visibility": null,
            "width": null
          }
        },
        "a77d7066f97b4119ba466b1aa1e743b7": {
          "model_module": "@jupyter-widgets/controls",
          "model_name": "DescriptionStyleModel",
          "model_module_version": "1.5.0",
          "state": {
            "_model_module": "@jupyter-widgets/controls",
            "_model_module_version": "1.5.0",
            "_model_name": "DescriptionStyleModel",
            "_view_count": null,
            "_view_module": "@jupyter-widgets/base",
            "_view_module_version": "1.2.0",
            "_view_name": "StyleView",
            "description_width": ""
          }
        },
        "a25dc5ba507e41c2961f1fd6d2d4ab13": {
          "model_module": "@jupyter-widgets/controls",
          "model_name": "HBoxModel",
          "model_module_version": "1.5.0",
          "state": {
            "_dom_classes": [],
            "_model_module": "@jupyter-widgets/controls",
            "_model_module_version": "1.5.0",
            "_model_name": "HBoxModel",
            "_view_count": null,
            "_view_module": "@jupyter-widgets/controls",
            "_view_module_version": "1.5.0",
            "_view_name": "HBoxView",
            "box_style": "",
            "children": [
              "IPY_MODEL_135aff86427d49119545a42b0482f344",
              "IPY_MODEL_94d283f11f60475e994faaf97c839c3d",
              "IPY_MODEL_911ea13cdbae46ae8fe9c50c2b17b46d"
            ],
            "layout": "IPY_MODEL_0d74ba617fb648f4a2ad8e5db17946b7"
          }
        },
        "135aff86427d49119545a42b0482f344": {
          "model_module": "@jupyter-widgets/controls",
          "model_name": "HTMLModel",
          "model_module_version": "1.5.0",
          "state": {
            "_dom_classes": [],
            "_model_module": "@jupyter-widgets/controls",
            "_model_module_version": "1.5.0",
            "_model_name": "HTMLModel",
            "_view_count": null,
            "_view_module": "@jupyter-widgets/controls",
            "_view_module_version": "1.5.0",
            "_view_name": "HTMLView",
            "description": "",
            "description_tooltip": null,
            "layout": "IPY_MODEL_44c1d6586c0b44f8872b2c67b773d574",
            "placeholder": "​",
            "style": "IPY_MODEL_b5c3152b6f5e4391ace7085247057f25",
            "value": "Map: 100%"
          }
        },
        "94d283f11f60475e994faaf97c839c3d": {
          "model_module": "@jupyter-widgets/controls",
          "model_name": "FloatProgressModel",
          "model_module_version": "1.5.0",
          "state": {
            "_dom_classes": [],
            "_model_module": "@jupyter-widgets/controls",
            "_model_module_version": "1.5.0",
            "_model_name": "FloatProgressModel",
            "_view_count": null,
            "_view_module": "@jupyter-widgets/controls",
            "_view_module_version": "1.5.0",
            "_view_name": "ProgressView",
            "bar_style": "success",
            "description": "",
            "description_tooltip": null,
            "layout": "IPY_MODEL_afb1534ec0db42189def2d76bc05ca2f",
            "max": 419,
            "min": 0,
            "orientation": "horizontal",
            "style": "IPY_MODEL_15d5ed21e72044cc8777a064b20e8963",
            "value": 419
          }
        },
        "911ea13cdbae46ae8fe9c50c2b17b46d": {
          "model_module": "@jupyter-widgets/controls",
          "model_name": "HTMLModel",
          "model_module_version": "1.5.0",
          "state": {
            "_dom_classes": [],
            "_model_module": "@jupyter-widgets/controls",
            "_model_module_version": "1.5.0",
            "_model_name": "HTMLModel",
            "_view_count": null,
            "_view_module": "@jupyter-widgets/controls",
            "_view_module_version": "1.5.0",
            "_view_name": "HTMLView",
            "description": "",
            "description_tooltip": null,
            "layout": "IPY_MODEL_39b6ec8236e5422a970a1481a78e0d3e",
            "placeholder": "​",
            "style": "IPY_MODEL_6ccec60dcc924fa38f9aff3a746d5cc4",
            "value": " 419/419 [00:00&lt;00:00, 10164.33 examples/s]"
          }
        },
        "0d74ba617fb648f4a2ad8e5db17946b7": {
          "model_module": "@jupyter-widgets/base",
          "model_name": "LayoutModel",
          "model_module_version": "1.2.0",
          "state": {
            "_model_module": "@jupyter-widgets/base",
            "_model_module_version": "1.2.0",
            "_model_name": "LayoutModel",
            "_view_count": null,
            "_view_module": "@jupyter-widgets/base",
            "_view_module_version": "1.2.0",
            "_view_name": "LayoutView",
            "align_content": null,
            "align_items": null,
            "align_self": null,
            "border": null,
            "bottom": null,
            "display": null,
            "flex": null,
            "flex_flow": null,
            "grid_area": null,
            "grid_auto_columns": null,
            "grid_auto_flow": null,
            "grid_auto_rows": null,
            "grid_column": null,
            "grid_gap": null,
            "grid_row": null,
            "grid_template_areas": null,
            "grid_template_columns": null,
            "grid_template_rows": null,
            "height": null,
            "justify_content": null,
            "justify_items": null,
            "left": null,
            "margin": null,
            "max_height": null,
            "max_width": null,
            "min_height": null,
            "min_width": null,
            "object_fit": null,
            "object_position": null,
            "order": null,
            "overflow": null,
            "overflow_x": null,
            "overflow_y": null,
            "padding": null,
            "right": null,
            "top": null,
            "visibility": null,
            "width": null
          }
        },
        "44c1d6586c0b44f8872b2c67b773d574": {
          "model_module": "@jupyter-widgets/base",
          "model_name": "LayoutModel",
          "model_module_version": "1.2.0",
          "state": {
            "_model_module": "@jupyter-widgets/base",
            "_model_module_version": "1.2.0",
            "_model_name": "LayoutModel",
            "_view_count": null,
            "_view_module": "@jupyter-widgets/base",
            "_view_module_version": "1.2.0",
            "_view_name": "LayoutView",
            "align_content": null,
            "align_items": null,
            "align_self": null,
            "border": null,
            "bottom": null,
            "display": null,
            "flex": null,
            "flex_flow": null,
            "grid_area": null,
            "grid_auto_columns": null,
            "grid_auto_flow": null,
            "grid_auto_rows": null,
            "grid_column": null,
            "grid_gap": null,
            "grid_row": null,
            "grid_template_areas": null,
            "grid_template_columns": null,
            "grid_template_rows": null,
            "height": null,
            "justify_content": null,
            "justify_items": null,
            "left": null,
            "margin": null,
            "max_height": null,
            "max_width": null,
            "min_height": null,
            "min_width": null,
            "object_fit": null,
            "object_position": null,
            "order": null,
            "overflow": null,
            "overflow_x": null,
            "overflow_y": null,
            "padding": null,
            "right": null,
            "top": null,
            "visibility": null,
            "width": null
          }
        },
        "b5c3152b6f5e4391ace7085247057f25": {
          "model_module": "@jupyter-widgets/controls",
          "model_name": "DescriptionStyleModel",
          "model_module_version": "1.5.0",
          "state": {
            "_model_module": "@jupyter-widgets/controls",
            "_model_module_version": "1.5.0",
            "_model_name": "DescriptionStyleModel",
            "_view_count": null,
            "_view_module": "@jupyter-widgets/base",
            "_view_module_version": "1.2.0",
            "_view_name": "StyleView",
            "description_width": ""
          }
        },
        "afb1534ec0db42189def2d76bc05ca2f": {
          "model_module": "@jupyter-widgets/base",
          "model_name": "LayoutModel",
          "model_module_version": "1.2.0",
          "state": {
            "_model_module": "@jupyter-widgets/base",
            "_model_module_version": "1.2.0",
            "_model_name": "LayoutModel",
            "_view_count": null,
            "_view_module": "@jupyter-widgets/base",
            "_view_module_version": "1.2.0",
            "_view_name": "LayoutView",
            "align_content": null,
            "align_items": null,
            "align_self": null,
            "border": null,
            "bottom": null,
            "display": null,
            "flex": null,
            "flex_flow": null,
            "grid_area": null,
            "grid_auto_columns": null,
            "grid_auto_flow": null,
            "grid_auto_rows": null,
            "grid_column": null,
            "grid_gap": null,
            "grid_row": null,
            "grid_template_areas": null,
            "grid_template_columns": null,
            "grid_template_rows": null,
            "height": null,
            "justify_content": null,
            "justify_items": null,
            "left": null,
            "margin": null,
            "max_height": null,
            "max_width": null,
            "min_height": null,
            "min_width": null,
            "object_fit": null,
            "object_position": null,
            "order": null,
            "overflow": null,
            "overflow_x": null,
            "overflow_y": null,
            "padding": null,
            "right": null,
            "top": null,
            "visibility": null,
            "width": null
          }
        },
        "15d5ed21e72044cc8777a064b20e8963": {
          "model_module": "@jupyter-widgets/controls",
          "model_name": "ProgressStyleModel",
          "model_module_version": "1.5.0",
          "state": {
            "_model_module": "@jupyter-widgets/controls",
            "_model_module_version": "1.5.0",
            "_model_name": "ProgressStyleModel",
            "_view_count": null,
            "_view_module": "@jupyter-widgets/base",
            "_view_module_version": "1.2.0",
            "_view_name": "StyleView",
            "bar_color": null,
            "description_width": ""
          }
        },
        "39b6ec8236e5422a970a1481a78e0d3e": {
          "model_module": "@jupyter-widgets/base",
          "model_name": "LayoutModel",
          "model_module_version": "1.2.0",
          "state": {
            "_model_module": "@jupyter-widgets/base",
            "_model_module_version": "1.2.0",
            "_model_name": "LayoutModel",
            "_view_count": null,
            "_view_module": "@jupyter-widgets/base",
            "_view_module_version": "1.2.0",
            "_view_name": "LayoutView",
            "align_content": null,
            "align_items": null,
            "align_self": null,
            "border": null,
            "bottom": null,
            "display": null,
            "flex": null,
            "flex_flow": null,
            "grid_area": null,
            "grid_auto_columns": null,
            "grid_auto_flow": null,
            "grid_auto_rows": null,
            "grid_column": null,
            "grid_gap": null,
            "grid_row": null,
            "grid_template_areas": null,
            "grid_template_columns": null,
            "grid_template_rows": null,
            "height": null,
            "justify_content": null,
            "justify_items": null,
            "left": null,
            "margin": null,
            "max_height": null,
            "max_width": null,
            "min_height": null,
            "min_width": null,
            "object_fit": null,
            "object_position": null,
            "order": null,
            "overflow": null,
            "overflow_x": null,
            "overflow_y": null,
            "padding": null,
            "right": null,
            "top": null,
            "visibility": null,
            "width": null
          }
        },
        "6ccec60dcc924fa38f9aff3a746d5cc4": {
          "model_module": "@jupyter-widgets/controls",
          "model_name": "DescriptionStyleModel",
          "model_module_version": "1.5.0",
          "state": {
            "_model_module": "@jupyter-widgets/controls",
            "_model_module_version": "1.5.0",
            "_model_name": "DescriptionStyleModel",
            "_view_count": null,
            "_view_module": "@jupyter-widgets/base",
            "_view_module_version": "1.2.0",
            "_view_name": "StyleView",
            "description_width": ""
          }
        },
        "0d01532d18a14cff836df0cd8c98c666": {
          "model_module": "@jupyter-widgets/controls",
          "model_name": "HBoxModel",
          "model_module_version": "1.5.0",
          "state": {
            "_dom_classes": [],
            "_model_module": "@jupyter-widgets/controls",
            "_model_module_version": "1.5.0",
            "_model_name": "HBoxModel",
            "_view_count": null,
            "_view_module": "@jupyter-widgets/controls",
            "_view_module_version": "1.5.0",
            "_view_name": "HBoxView",
            "box_style": "",
            "children": [
              "IPY_MODEL_08c14c8b2d8c4d168b21502ccc24b20b",
              "IPY_MODEL_9f22d34d83dd48c0bc7a1a73c3f9b97d",
              "IPY_MODEL_42d52b576d544698a7410415be67f310"
            ],
            "layout": "IPY_MODEL_8c9d3f7fe0f345299dd6c34cf43d307d"
          }
        },
        "08c14c8b2d8c4d168b21502ccc24b20b": {
          "model_module": "@jupyter-widgets/controls",
          "model_name": "HTMLModel",
          "model_module_version": "1.5.0",
          "state": {
            "_dom_classes": [],
            "_model_module": "@jupyter-widgets/controls",
            "_model_module_version": "1.5.0",
            "_model_name": "HTMLModel",
            "_view_count": null,
            "_view_module": "@jupyter-widgets/controls",
            "_view_module_version": "1.5.0",
            "_view_name": "HTMLView",
            "description": "",
            "description_tooltip": null,
            "layout": "IPY_MODEL_97380e1897a04ba0af0f9bae6576eca5",
            "placeholder": "​",
            "style": "IPY_MODEL_4c418c5ba46f4e84b094bd4fa7389a98",
            "value": "Loading checkpoint shards: 100%"
          }
        },
        "9f22d34d83dd48c0bc7a1a73c3f9b97d": {
          "model_module": "@jupyter-widgets/controls",
          "model_name": "FloatProgressModel",
          "model_module_version": "1.5.0",
          "state": {
            "_dom_classes": [],
            "_model_module": "@jupyter-widgets/controls",
            "_model_module_version": "1.5.0",
            "_model_name": "FloatProgressModel",
            "_view_count": null,
            "_view_module": "@jupyter-widgets/controls",
            "_view_module_version": "1.5.0",
            "_view_name": "ProgressView",
            "bar_style": "success",
            "description": "",
            "description_tooltip": null,
            "layout": "IPY_MODEL_383f42c9a6c34f54a55e88c420227426",
            "max": 2,
            "min": 0,
            "orientation": "horizontal",
            "style": "IPY_MODEL_6604eff3745c4b8c92726ecde15da6ca",
            "value": 2
          }
        },
        "42d52b576d544698a7410415be67f310": {
          "model_module": "@jupyter-widgets/controls",
          "model_name": "HTMLModel",
          "model_module_version": "1.5.0",
          "state": {
            "_dom_classes": [],
            "_model_module": "@jupyter-widgets/controls",
            "_model_module_version": "1.5.0",
            "_model_name": "HTMLModel",
            "_view_count": null,
            "_view_module": "@jupyter-widgets/controls",
            "_view_module_version": "1.5.0",
            "_view_name": "HTMLView",
            "description": "",
            "description_tooltip": null,
            "layout": "IPY_MODEL_2d4ffd426b8144e5b5ece1f4d56248a5",
            "placeholder": "​",
            "style": "IPY_MODEL_3208cdce9afb47a7ac85d40b50d10867",
            "value": " 2/2 [00:08&lt;00:00,  3.49s/it]"
          }
        },
        "8c9d3f7fe0f345299dd6c34cf43d307d": {
          "model_module": "@jupyter-widgets/base",
          "model_name": "LayoutModel",
          "model_module_version": "1.2.0",
          "state": {
            "_model_module": "@jupyter-widgets/base",
            "_model_module_version": "1.2.0",
            "_model_name": "LayoutModel",
            "_view_count": null,
            "_view_module": "@jupyter-widgets/base",
            "_view_module_version": "1.2.0",
            "_view_name": "LayoutView",
            "align_content": null,
            "align_items": null,
            "align_self": null,
            "border": null,
            "bottom": null,
            "display": null,
            "flex": null,
            "flex_flow": null,
            "grid_area": null,
            "grid_auto_columns": null,
            "grid_auto_flow": null,
            "grid_auto_rows": null,
            "grid_column": null,
            "grid_gap": null,
            "grid_row": null,
            "grid_template_areas": null,
            "grid_template_columns": null,
            "grid_template_rows": null,
            "height": null,
            "justify_content": null,
            "justify_items": null,
            "left": null,
            "margin": null,
            "max_height": null,
            "max_width": null,
            "min_height": null,
            "min_width": null,
            "object_fit": null,
            "object_position": null,
            "order": null,
            "overflow": null,
            "overflow_x": null,
            "overflow_y": null,
            "padding": null,
            "right": null,
            "top": null,
            "visibility": null,
            "width": null
          }
        },
        "97380e1897a04ba0af0f9bae6576eca5": {
          "model_module": "@jupyter-widgets/base",
          "model_name": "LayoutModel",
          "model_module_version": "1.2.0",
          "state": {
            "_model_module": "@jupyter-widgets/base",
            "_model_module_version": "1.2.0",
            "_model_name": "LayoutModel",
            "_view_count": null,
            "_view_module": "@jupyter-widgets/base",
            "_view_module_version": "1.2.0",
            "_view_name": "LayoutView",
            "align_content": null,
            "align_items": null,
            "align_self": null,
            "border": null,
            "bottom": null,
            "display": null,
            "flex": null,
            "flex_flow": null,
            "grid_area": null,
            "grid_auto_columns": null,
            "grid_auto_flow": null,
            "grid_auto_rows": null,
            "grid_column": null,
            "grid_gap": null,
            "grid_row": null,
            "grid_template_areas": null,
            "grid_template_columns": null,
            "grid_template_rows": null,
            "height": null,
            "justify_content": null,
            "justify_items": null,
            "left": null,
            "margin": null,
            "max_height": null,
            "max_width": null,
            "min_height": null,
            "min_width": null,
            "object_fit": null,
            "object_position": null,
            "order": null,
            "overflow": null,
            "overflow_x": null,
            "overflow_y": null,
            "padding": null,
            "right": null,
            "top": null,
            "visibility": null,
            "width": null
          }
        },
        "4c418c5ba46f4e84b094bd4fa7389a98": {
          "model_module": "@jupyter-widgets/controls",
          "model_name": "DescriptionStyleModel",
          "model_module_version": "1.5.0",
          "state": {
            "_model_module": "@jupyter-widgets/controls",
            "_model_module_version": "1.5.0",
            "_model_name": "DescriptionStyleModel",
            "_view_count": null,
            "_view_module": "@jupyter-widgets/base",
            "_view_module_version": "1.2.0",
            "_view_name": "StyleView",
            "description_width": ""
          }
        },
        "383f42c9a6c34f54a55e88c420227426": {
          "model_module": "@jupyter-widgets/base",
          "model_name": "LayoutModel",
          "model_module_version": "1.2.0",
          "state": {
            "_model_module": "@jupyter-widgets/base",
            "_model_module_version": "1.2.0",
            "_model_name": "LayoutModel",
            "_view_count": null,
            "_view_module": "@jupyter-widgets/base",
            "_view_module_version": "1.2.0",
            "_view_name": "LayoutView",
            "align_content": null,
            "align_items": null,
            "align_self": null,
            "border": null,
            "bottom": null,
            "display": null,
            "flex": null,
            "flex_flow": null,
            "grid_area": null,
            "grid_auto_columns": null,
            "grid_auto_flow": null,
            "grid_auto_rows": null,
            "grid_column": null,
            "grid_gap": null,
            "grid_row": null,
            "grid_template_areas": null,
            "grid_template_columns": null,
            "grid_template_rows": null,
            "height": null,
            "justify_content": null,
            "justify_items": null,
            "left": null,
            "margin": null,
            "max_height": null,
            "max_width": null,
            "min_height": null,
            "min_width": null,
            "object_fit": null,
            "object_position": null,
            "order": null,
            "overflow": null,
            "overflow_x": null,
            "overflow_y": null,
            "padding": null,
            "right": null,
            "top": null,
            "visibility": null,
            "width": null
          }
        },
        "6604eff3745c4b8c92726ecde15da6ca": {
          "model_module": "@jupyter-widgets/controls",
          "model_name": "ProgressStyleModel",
          "model_module_version": "1.5.0",
          "state": {
            "_model_module": "@jupyter-widgets/controls",
            "_model_module_version": "1.5.0",
            "_model_name": "ProgressStyleModel",
            "_view_count": null,
            "_view_module": "@jupyter-widgets/base",
            "_view_module_version": "1.2.0",
            "_view_name": "StyleView",
            "bar_color": null,
            "description_width": ""
          }
        },
        "2d4ffd426b8144e5b5ece1f4d56248a5": {
          "model_module": "@jupyter-widgets/base",
          "model_name": "LayoutModel",
          "model_module_version": "1.2.0",
          "state": {
            "_model_module": "@jupyter-widgets/base",
            "_model_module_version": "1.2.0",
            "_model_name": "LayoutModel",
            "_view_count": null,
            "_view_module": "@jupyter-widgets/base",
            "_view_module_version": "1.2.0",
            "_view_name": "LayoutView",
            "align_content": null,
            "align_items": null,
            "align_self": null,
            "border": null,
            "bottom": null,
            "display": null,
            "flex": null,
            "flex_flow": null,
            "grid_area": null,
            "grid_auto_columns": null,
            "grid_auto_flow": null,
            "grid_auto_rows": null,
            "grid_column": null,
            "grid_gap": null,
            "grid_row": null,
            "grid_template_areas": null,
            "grid_template_columns": null,
            "grid_template_rows": null,
            "height": null,
            "justify_content": null,
            "justify_items": null,
            "left": null,
            "margin": null,
            "max_height": null,
            "max_width": null,
            "min_height": null,
            "min_width": null,
            "object_fit": null,
            "object_position": null,
            "order": null,
            "overflow": null,
            "overflow_x": null,
            "overflow_y": null,
            "padding": null,
            "right": null,
            "top": null,
            "visibility": null,
            "width": null
          }
        },
        "3208cdce9afb47a7ac85d40b50d10867": {
          "model_module": "@jupyter-widgets/controls",
          "model_name": "DescriptionStyleModel",
          "model_module_version": "1.5.0",
          "state": {
            "_model_module": "@jupyter-widgets/controls",
            "_model_module_version": "1.5.0",
            "_model_name": "DescriptionStyleModel",
            "_view_count": null,
            "_view_module": "@jupyter-widgets/base",
            "_view_module_version": "1.2.0",
            "_view_name": "StyleView",
            "description_width": ""
          }
        }
      }
    }
  },
  "nbformat": 4,
  "nbformat_minor": 0
}