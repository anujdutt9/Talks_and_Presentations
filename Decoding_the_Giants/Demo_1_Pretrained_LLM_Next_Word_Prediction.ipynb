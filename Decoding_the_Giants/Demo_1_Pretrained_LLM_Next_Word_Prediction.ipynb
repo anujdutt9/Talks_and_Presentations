{
  "nbformat": 4,
  "nbformat_minor": 0,
  "metadata": {
    "colab": {
      "provenance": [],
      "gpuType": "T4",
      "authorship_tag": "ABX9TyM6UPw/TzAu6XKwHiq4yTaw",
      "include_colab_link": true
    },
    "kernelspec": {
      "name": "python3",
      "display_name": "Python 3"
    },
    "language_info": {
      "name": "python"
    },
    "accelerator": "GPU"
  },
  "cells": [
    {
      "cell_type": "markdown",
      "metadata": {
        "id": "view-in-github",
        "colab_type": "text"
      },
      "source": [
        "<a href=\"https://colab.research.google.com/github/anujdutt9/Talks_and_Presentations/blob/main/Decoding_the_Giants/Demo_1_Pretrained_LLM_Next_Word_Prediction.ipynb\" target=\"_parent\"><img src=\"https://colab.research.google.com/assets/colab-badge.svg\" alt=\"Open In Colab\"/></a>"
      ]
    },
    {
      "cell_type": "code",
      "execution_count": 1,
      "metadata": {
        "id": "0mtpr_MBBPG2"
      },
      "outputs": [],
      "source": [
        "# Install Dependencies\n",
        "!pip3 install -U transformers -q"
      ]
    },
    {
      "cell_type": "code",
      "source": [
        "# Import Dependencies\n",
        "import torch\n",
        "import torch.nn.functional as F\n",
        "from transformers import GPT2Tokenizer, GPT2LMHeadModel"
      ],
      "metadata": {
        "id": "Fj8txwRZBhzB"
      },
      "execution_count": 2,
      "outputs": []
    },
    {
      "cell_type": "code",
      "source": [
        "# Load pre-trained model and tokenizer\n",
        "model_name = \"gpt2\"\n",
        "tokenizer = GPT2Tokenizer.from_pretrained(model_name)\n",
        "model = GPT2LMHeadModel.from_pretrained(model_name)\n",
        "\n",
        "# Ensure the model is in evaluation mode\n",
        "model.eval()"
      ],
      "metadata": {
        "colab": {
          "base_uri": "https://localhost:8080/"
        },
        "id": "Pz0ipMWoBsJu",
        "outputId": "cc3a4914-2e1c-430a-82de-cc070f4c7e0e"
      },
      "execution_count": 3,
      "outputs": [
        {
          "output_type": "execute_result",
          "data": {
            "text/plain": [
              "GPT2LMHeadModel(\n",
              "  (transformer): GPT2Model(\n",
              "    (wte): Embedding(50257, 768)\n",
              "    (wpe): Embedding(1024, 768)\n",
              "    (drop): Dropout(p=0.1, inplace=False)\n",
              "    (h): ModuleList(\n",
              "      (0-11): 12 x GPT2Block(\n",
              "        (ln_1): LayerNorm((768,), eps=1e-05, elementwise_affine=True)\n",
              "        (attn): GPT2SdpaAttention(\n",
              "          (c_attn): Conv1D(nf=2304, nx=768)\n",
              "          (c_proj): Conv1D(nf=768, nx=768)\n",
              "          (attn_dropout): Dropout(p=0.1, inplace=False)\n",
              "          (resid_dropout): Dropout(p=0.1, inplace=False)\n",
              "        )\n",
              "        (ln_2): LayerNorm((768,), eps=1e-05, elementwise_affine=True)\n",
              "        (mlp): GPT2MLP(\n",
              "          (c_fc): Conv1D(nf=3072, nx=768)\n",
              "          (c_proj): Conv1D(nf=768, nx=3072)\n",
              "          (act): NewGELUActivation()\n",
              "          (dropout): Dropout(p=0.1, inplace=False)\n",
              "        )\n",
              "      )\n",
              "    )\n",
              "    (ln_f): LayerNorm((768,), eps=1e-05, elementwise_affine=True)\n",
              "  )\n",
              "  (lm_head): Linear(in_features=768, out_features=50257, bias=False)\n",
              ")"
            ]
          },
          "metadata": {},
          "execution_count": 3
        }
      ]
    },
    {
      "cell_type": "code",
      "source": [
        "# Define a prompt for the model\n",
        "prompt = \"Artificial intelligence is\""
      ],
      "metadata": {
        "id": "vbVLK1f-Bw30"
      },
      "execution_count": 4,
      "outputs": []
    },
    {
      "cell_type": "code",
      "source": [
        "# Tokenize the input prompt\n",
        "input_ids = tokenizer.encode(prompt, return_tensors=\"pt\")\n",
        "input_ids"
      ],
      "metadata": {
        "colab": {
          "base_uri": "https://localhost:8080/"
        },
        "id": "JJHIZtRBBz97",
        "outputId": "f16c6479-5e4f-4fbc-84aa-3e569c65bcb1"
      },
      "execution_count": 5,
      "outputs": [
        {
          "output_type": "execute_result",
          "data": {
            "text/plain": [
              "tensor([[8001, 9542, 4430,  318]])"
            ]
          },
          "metadata": {},
          "execution_count": 5
        }
      ]
    },
    {
      "cell_type": "code",
      "source": [
        "# Decode each token to see what part of the text it represents\n",
        "for token_id in input_ids.numpy()[0]:\n",
        "    print(f\"Token ID: {token_id}, Token: '{tokenizer.decode([token_id])}'\")"
      ],
      "metadata": {
        "colab": {
          "base_uri": "https://localhost:8080/"
        },
        "id": "HxCS6RvwGx_y",
        "outputId": "5097da25-4464-4167-c2c4-f77cc6435d00"
      },
      "execution_count": 6,
      "outputs": [
        {
          "output_type": "stream",
          "name": "stdout",
          "text": [
            "Token ID: 8001, Token: 'Art'\n",
            "Token ID: 9542, Token: 'ificial'\n",
            "Token ID: 4430, Token: ' intelligence'\n",
            "Token ID: 318, Token: ' is'\n"
          ]
        }
      ]
    },
    {
      "cell_type": "code",
      "source": [
        "# Generate logits for the next token\n",
        "with torch.no_grad():\n",
        "    outputs = model(input_ids)\n",
        "    logits = outputs.logits\n",
        "\n",
        "# Extract logits for the last token\n",
        "next_token_logits = logits[:, -1, :]\n",
        "\n",
        "# Convert logits to probabilities using softmax\n",
        "probs = F.softmax(next_token_logits, dim=-1)"
      ],
      "metadata": {
        "id": "CibhuPBWB3Qo"
      },
      "execution_count": 7,
      "outputs": []
    },
    {
      "cell_type": "code",
      "source": [
        "# Get the top 5 tokens with the highest probabilities\n",
        "top_k = 5\n",
        "top_k_probs, top_k_indices = torch.topk(probs, top_k)\n",
        "print(f'top_k_probs: {top_k_probs}, top_k_indices: {top_k_indices}')"
      ],
      "metadata": {
        "colab": {
          "base_uri": "https://localhost:8080/"
        },
        "id": "nblH00SoB6sA",
        "outputId": "96dba896-5aac-4b8c-9562-5fe1f6b8afc2"
      },
      "execution_count": 8,
      "outputs": [
        {
          "output_type": "stream",
          "name": "stdout",
          "text": [
            "top_k_probs: tensor([[0.1205, 0.0525, 0.0432, 0.0309, 0.0206]]), top_k_indices: tensor([[257, 262, 407, 281, 783]])\n"
          ]
        }
      ]
    },
    {
      "cell_type": "code",
      "source": [
        "# Decode the top k tokens and their probabilities\n",
        "for i in range(top_k):\n",
        "    token = tokenizer.decode(top_k_indices[0, i])\n",
        "    probability = top_k_probs[0, i].item()\n",
        "    print(f\"Token: {token}, Probability: {probability:.4f}\")"
      ],
      "metadata": {
        "colab": {
          "base_uri": "https://localhost:8080/"
        },
        "id": "8zr_B7VxCBKN",
        "outputId": "c47b3cfa-ab9c-4fe4-b54d-7df67a46d644"
      },
      "execution_count": 9,
      "outputs": [
        {
          "output_type": "stream",
          "name": "stdout",
          "text": [
            "Token:  a, Probability: 0.1205\n",
            "Token:  the, Probability: 0.0525\n",
            "Token:  not, Probability: 0.0432\n",
            "Token:  an, Probability: 0.0309\n",
            "Token:  now, Probability: 0.0206\n"
          ]
        }
      ]
    },
    {
      "cell_type": "code",
      "source": [
        "# Display log probabilities\n",
        "log_probs = torch.log(probs)\n",
        "print(\"\\nLog probabilities for the top 5 tokens:\")\n",
        "for i in range(top_k):\n",
        "    token = tokenizer.decode(top_k_indices[0, i])\n",
        "    log_probability = log_probs[0, top_k_indices[0, i]].item()\n",
        "    print(f\"Token: {token}, Log Probability: {log_probability:.4f}\")"
      ],
      "metadata": {
        "colab": {
          "base_uri": "https://localhost:8080/"
        },
        "id": "-F3S3jHXCC-U",
        "outputId": "6990eacc-aa80-448e-fed7-4e53f8819eac"
      },
      "execution_count": 10,
      "outputs": [
        {
          "output_type": "stream",
          "name": "stdout",
          "text": [
            "\n",
            "Log probabilities for the top 5 tokens:\n",
            "Token:  a, Log Probability: -2.1165\n",
            "Token:  the, Log Probability: -2.9462\n",
            "Token:  not, Log Probability: -3.1411\n",
            "Token:  an, Log Probability: -3.4763\n",
            "Token:  now, Log Probability: -3.8815\n"
          ]
        }
      ]
    },
    {
      "cell_type": "markdown",
      "source": [
        "# Continuously Generating the Next Word"
      ],
      "metadata": {
        "id": "CaBrXA3jIXju"
      }
    },
    {
      "cell_type": "code",
      "source": [
        "# Define a prompt for the model\n",
        "prompt = \"Artificial intelligence is\"\n",
        "print(f\"Initial Prompt: {prompt}\")\n",
        "\n",
        "# Number of words to generate\n",
        "num_words_to_generate = 10 # @param {type:\"slider\", min:1, max:10, step:1}\n",
        "\n",
        "# Lower temperature makes the model more deterministic\n",
        "temperature = 0.9 # @param {type:\"slider\", min:0, max:1, step:0.1}\n",
        "\n",
        "# Nucleus sampling threshold\n",
        "top_p = 0.7 # @param {type:\"slider\", min:0, max:1, step:0.1}\n",
        "\n",
        "for _ in range(num_words_to_generate):\n",
        "    # Tokenize the input prompt\n",
        "    input_ids = tokenizer.encode(prompt, return_tensors=\"pt\")\n",
        "\n",
        "    # Generate logits for the next token\n",
        "    with torch.no_grad():\n",
        "        outputs = model(input_ids)\n",
        "        logits = outputs.logits\n",
        "\n",
        "    # Extract logits for the last token\n",
        "    next_token_logits = logits[:, -1, :]\n",
        "\n",
        "    # Apply temperature to the logits\n",
        "    next_token_logits = next_token_logits / temperature\n",
        "\n",
        "    # Convert logits to probabilities using softmax\n",
        "    probs = F.softmax(next_token_logits, dim=-1)\n",
        "\n",
        "    # Apply top-p (nucleus) sampling to filter the probabilities\n",
        "    sorted_probs, sorted_indices = torch.sort(probs, descending=True)\n",
        "    cumulative_probs = torch.cumsum(sorted_probs, dim=-1)\n",
        "    sorted_indices_to_remove = cumulative_probs > top_p\n",
        "    sorted_indices_to_remove[..., 1:] = sorted_indices_to_remove[..., :-1].clone()\n",
        "    sorted_indices_to_remove[..., 0] = False\n",
        "    sorted_probs = sorted_probs.masked_fill(sorted_indices_to_remove, 0.0)\n",
        "    sorted_probs = sorted_probs / sorted_probs.sum()  # Renormalize probabilities\n",
        "\n",
        "    # Sample from the filtered distribution\n",
        "    next_token = torch.multinomial(sorted_probs, num_samples=1)\n",
        "    next_token_id = sorted_indices[0, next_token.item()]\n",
        "\n",
        "    # Decode the next token and append it to the prompt\n",
        "    next_word = tokenizer.decode(next_token_id)\n",
        "    prompt += f\" {next_word}\"\n",
        "\n",
        "    # Print the updated prompt with the new word\n",
        "    print(f\"Updated Prompt: {prompt}\\n\")\n",
        "\n",
        "    # Show the top 5 predictions for context\n",
        "    top_k = 5\n",
        "    top_k_probs, top_k_indices = torch.topk(probs, top_k)\n",
        "    # print(\"Top 5 token predictions:\")\n",
        "    for i in range(top_k):\n",
        "        token = tokenizer.decode(top_k_indices[0, i])\n",
        "        probability = top_k_probs[0, i].item()\n",
        "        # print(f\"Token: '{token}', Probability: {probability:.4f}\")"
      ],
      "metadata": {
        "colab": {
          "base_uri": "https://localhost:8080/"
        },
        "id": "vl_ozNZkCrZA",
        "outputId": "09dabb73-4dea-44cc-f9fe-4cd3d4dc48ec"
      },
      "execution_count": 11,
      "outputs": [
        {
          "output_type": "stream",
          "name": "stdout",
          "text": [
            "Initial Prompt: Artificial intelligence is\n",
            "Updated Prompt: Artificial intelligence is  currently\n",
            "\n",
            "Updated Prompt: Artificial intelligence is  currently  being\n",
            "\n",
            "Updated Prompt: Artificial intelligence is  currently  being  used\n",
            "\n",
            "Updated Prompt: Artificial intelligence is  currently  being  used  to\n",
            "\n",
            "Updated Prompt: Artificial intelligence is  currently  being  used  to  help\n",
            "\n",
            "Updated Prompt: Artificial intelligence is  currently  being  used  to  help  \n",
            "\n",
            "Updated Prompt: Artificial intelligence is  currently  being  used  to  help    to\n",
            "\n",
            "Updated Prompt: Artificial intelligence is  currently  being  used  to  help    to  \n",
            "\n",
            "Updated Prompt: Artificial intelligence is  currently  being  used  to  help    to    control\n",
            "\n",
            "Updated Prompt: Artificial intelligence is  currently  being  used  to  help    to    control  the\n",
            "\n"
          ]
        }
      ]
    }
  ]
}